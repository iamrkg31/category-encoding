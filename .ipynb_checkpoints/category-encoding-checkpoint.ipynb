{
 "cells": [
  {
   "cell_type": "code",
   "execution_count": 1,
   "metadata": {},
   "outputs": [],
   "source": [
    "import pandas as pd\n",
    "import numpy as np\n",
    "from gensim.models import Word2Vec\n",
    "from random import shuffle\n",
    "from sklearn import preprocessing\n",
    "import gc, copy\n",
    "from sklearn.feature_extraction import FeatureHasher"
   ]
  },
  {
   "cell_type": "code",
   "execution_count": 2,
   "metadata": {},
   "outputs": [],
   "source": [
    "# Import data\n",
    "df_train = pd.read_csv('data/train.csv')\n",
    "df_test = pd.read_csv('data/test.csv')\n",
    "cols = [\"MSZoning\", \"Street\", \"LotShape\", \"LandContour\", \"SaleType\"]\n",
    "data = pd.concat([df_train[cols], df_test[cols]])"
   ]
  },
  {
   "cell_type": "markdown",
   "metadata": {},
   "source": [
    "#### Method 1: Encoding to ordinal variables"
   ]
  },
  {
   "cell_type": "code",
   "execution_count": 3,
   "metadata": {},
   "outputs": [],
   "source": [
    "def encode_to_ordinal_var():\n",
    "    for c in cols:    \n",
    "        lbl = preprocessing.LabelEncoder()\n",
    "        lbl.fit(list(data[c].values))\n",
    "        data[c] = lbl.transform(list(data[c].values))\n",
    "# encode_to_ordinal_var()\n",
    "# data"
   ]
  },
  {
   "cell_type": "markdown",
   "metadata": {},
   "source": [
    "#### Method 2: One hot encoding (or dummy variabales)"
   ]
  },
  {
   "cell_type": "code",
   "execution_count": 4,
   "metadata": {},
   "outputs": [],
   "source": [
    "# data = pd.get_dummies(data)\n",
    "# data"
   ]
  },
  {
   "cell_type": "markdown",
   "metadata": {},
   "source": [
    "#### Method 3: Feature hashing (a.k.a the hashing trick)"
   ]
  },
  {
   "cell_type": "code",
   "execution_count": 5,
   "metadata": {},
   "outputs": [],
   "source": [
    "def feature_hashing():\n",
    "    for c in cols:\n",
    "        data[c] = data[c].astype('str')\n",
    "        h = FeatureHasher(n_features=5, input_type='string')\n",
    "        f = h.transform(data[c].values)\n",
    "        for i in range(5):\n",
    "            data[c+str(i+1)] = f.toarray()[:,i]\n",
    "        data.drop(columns=[c], index=1)\n",
    "# feature_hashing()"
   ]
  },
  {
   "cell_type": "markdown",
   "metadata": {},
   "source": [
    "#### Method 4: Cat2Vec"
   ]
  },
  {
   "cell_type": "code",
   "execution_count": 6,
   "metadata": {},
   "outputs": [],
   "source": [
    "def apply_w2v(sentences, model, num_features):\n",
    "    def _average_word_vectors(words, model, vocabulary, num_features):\n",
    "        feature_vector = np.zeros((num_features,), dtype=\"float64\")\n",
    "        n_words = 0.\n",
    "        for word in words:\n",
    "            if word in vocabulary: \n",
    "                n_words = n_words + 1.\n",
    "                feature_vector = np.add(feature_vector, model[word])\n",
    "\n",
    "        if n_words:\n",
    "            feature_vector = np.divide(feature_vector, n_words)\n",
    "        return feature_vector\n",
    "    \n",
    "    vocab = set(model.wv.index2word)\n",
    "    feats = [_average_word_vectors(s, model, vocab, num_features) for s in sentences]\n",
    "    return np.array(feats)"
   ]
  },
  {
   "cell_type": "code",
   "execution_count": 7,
   "metadata": {},
   "outputs": [],
   "source": [
    "def gen_cat2vec_sentences(data2):\n",
    "    X_w2v = copy.deepcopy(data2)\n",
    "    names = list(X_w2v.columns.values)\n",
    "    for c in names:\n",
    "        X_w2v[c] = X_w2v[c].fillna('unknow').astype('category')\n",
    "        X_w2v[c].cat.categories = [\"%s %s\" % (c,g) for g in X_w2v[c].cat.categories]\n",
    "    X_w2v = X_w2v.values.tolist()\n",
    "    return X_w2v"
   ]
  },
  {
   "cell_type": "code",
   "execution_count": 8,
   "metadata": {},
   "outputs": [],
   "source": [
    "n_cat2vec_feature  = len(cols) # define the cat2vecs dimentions\n",
    "n_cat2vec_window   = len(cols)*2 # define the w2v window size"
   ]
  },
  {
   "cell_type": "code",
   "execution_count": 9,
   "metadata": {},
   "outputs": [],
   "source": [
    "def fit_cat2vec_model():\n",
    "    X_w2v = gen_cat2vec_sentences(data.loc[:,cols].sample(frac=0.6))\n",
    "    for i in X_w2v:\n",
    "        shuffle(i)\n",
    "    model = Word2Vec(X_w2v, size=n_cat2vec_feature, window=n_cat2vec_window)\n",
    "    return model\n",
    "\n",
    "c2v_model = fit_cat2vec_model()"
   ]
  },
  {
   "cell_type": "code",
   "execution_count": 10,
   "metadata": {},
   "outputs": [
    {
     "name": "stderr",
     "output_type": "stream",
     "text": [
      "/home/rahul/anaconda3/lib/python3.7/site-packages/ipykernel_launcher.py:8: DeprecationWarning: Call to deprecated `__getitem__` (Method will be removed in 4.0.0, use self.wv.__getitem__() instead).\n",
      "  \n"
     ]
    },
    {
     "data": {
      "text/plain": [
       "array([[-0.34983618, -0.10281767,  0.99092593, -0.12472551, -0.73835599],\n",
       "       [-0.34983618, -0.10281767,  0.99092593, -0.12472551, -0.73835599],\n",
       "       [-0.34105515, -0.07095265,  0.96772071, -0.13078062, -0.7385518 ],\n",
       "       ...,\n",
       "       [-0.34983618, -0.10281767,  0.99092593, -0.12472551, -0.73835599],\n",
       "       [-0.34983618, -0.10281767,  0.99092593, -0.12472551, -0.73835599],\n",
       "       [-0.34983618, -0.10281767,  0.99092593, -0.12472551, -0.73835599]])"
      ]
     },
     "execution_count": 10,
     "metadata": {},
     "output_type": "execute_result"
    }
   ],
   "source": [
    "c2v_matrix = apply_w2v(gen_cat2vec_sentences(data.loc[:,cols]), c2v_model, n_cat2vec_feature)\n",
    "c2v_matrix"
   ]
  },
  {
   "cell_type": "code",
   "execution_count": null,
   "metadata": {},
   "outputs": [],
   "source": []
  }
 ],
 "metadata": {
  "kernelspec": {
   "display_name": "Python 3",
   "language": "python",
   "name": "python3"
  },
  "language_info": {
   "codemirror_mode": {
    "name": "ipython",
    "version": 3
   },
   "file_extension": ".py",
   "mimetype": "text/x-python",
   "name": "python",
   "nbconvert_exporter": "python",
   "pygments_lexer": "ipython3",
   "version": "3.7.1"
  }
 },
 "nbformat": 4,
 "nbformat_minor": 2
}
